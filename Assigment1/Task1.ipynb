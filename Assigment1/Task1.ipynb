{
 "cells": [
  {
   "cell_type": "markdown",
   "metadata": {},
   "source": [
    "## Q1:Conver Decimal numbers to binary:\n",
    "|Decimal|Binary  |\n",
    "|-------|--------|\n",
    "|5      |101     |\n",
    "|31     |111110  |\n",
    "|112    |0000111 |\n",
    "|255    |11111111|"
   ]
  },
  {
   "cell_type": "markdown",
   "metadata": {},
   "source": [
    "## Q2:convert Binary bumbers to Decimal:\n",
    "|Binaryl    |Binary   |\n",
    "|-----------|---------|\n",
    "|11110001   |241      | \n",
    "|11001010   |202      |\n",
    "|11111111   |255      |\n",
    "|00011100   |28       |"
   ]
  },
  {
   "cell_type": "markdown",
   "metadata": {},
   "source": [
    "## Q3:Convert these text to binary:\n",
    "|Text      |Binary                                          |\n",
    "|----------|------------------------------------------------|\n",
    "|Hello    |01001000 01100101 01101100 01101100 01101111   |\n",
    "|Python   |01010000 01111001 01110100 01101000 01101111 01101110|"
   ]
  },
  {
   "cell_type": "markdown",
   "metadata": {},
   "source": [
    "## Q4:Convert binary to text:\n",
    "|Binary                             |Text   |\n",
    "|-----------------------------------|-------|\n",
    "|01011001 01101111 1110101          |You    |\n",
    "|01000100 01101001 1100100          |Did    |\n",
    "|01000111 01101111 1101111 1100100  |Good   |\n",
    "|01001010 01101111 1100010          |Job    |"
   ]
  },
  {
   "cell_type": "code",
   "execution_count": null,
   "metadata": {},
   "outputs": [],
   "source": []
  }
 ],
 "metadata": {
  "kernelspec": {
   "display_name": "Python 3",
   "language": "python",
   "name": "python3"
  },
  "language_info": {
   "codemirror_mode": {
    "name": "ipython",
    "version": 3
   },
   "file_extension": ".py",
   "mimetype": "text/x-python",
   "name": "python",
   "nbconvert_exporter": "python",
   "pygments_lexer": "ipython3",
   "version": "3.7.6"
  }
 },
 "nbformat": 4,
 "nbformat_minor": 4
}
