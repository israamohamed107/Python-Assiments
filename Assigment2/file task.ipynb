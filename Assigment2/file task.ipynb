{
 "cells": [
  {
   "cell_type": "code",
   "execution_count": 4,
   "metadata": {},
   "outputs": [],
   "source": [
    "file=open(\"C:\\\\Users\\\\Israa Mohamed\\\\Desktop\\\\New Text Document.txt\",'w')\n",
    "file.write(\"hello world \\n\"*5)\n",
    "file.close()"
   ]
  },
  {
   "cell_type": "code",
   "execution_count": 15,
   "metadata": {},
   "outputs": [
    {
     "name": "stdout",
     "output_type": "stream",
     "text": [
      "hello world \n",
      "hello world \n",
      "hello world \n",
      "hello world \n",
      "hello world \n",
      "\n"
     ]
    }
   ],
   "source": [
    "file1= open(\"C:\\\\Users\\\\Israa Mohamed\\\\Desktop\\\\New Text Document.txt\",'r') \n",
    "print(file1.read())\n",
    "file1.close()"
   ]
  },
  {
   "cell_type": "code",
   "execution_count": 16,
   "metadata": {},
   "outputs": [
    {
     "name": "stdout",
     "output_type": "stream",
     "text": [
      "HELLO WORLD \n",
      "\n",
      "HELLO WORLD \n",
      "\n",
      "HELLO WORLD \n",
      "\n",
      "HELLO WORLD \n",
      "\n",
      "HELLO WORLD \n",
      "\n"
     ]
    }
   ],
   "source": [
    "file1=open(\"C:\\\\Users\\\\Israa Mohamed\\\\Desktop\\\\New Text Document.txt\",'r')\n",
    "list_file=file1.readlines()\n",
    "print(list_file[0].upper())\n",
    "print(list_file[1].upper())\n",
    "print(list_file[2].upper())\n",
    "print(list_file[3].upper())\n",
    "print(list_file[4].upper())"
   ]
  },
  {
   "cell_type": "code",
   "execution_count": 18,
   "metadata": {},
   "outputs": [],
   "source": [
    "file2=open(\"C:\\\\Users\\\\Israa Mohamed\\\\Desktop\\\\New Text Document.txt\",'w')\n",
    "file2.write(\"HELLO WORLD \\n\"*5)\n",
    "file2.close()"
   ]
  },
  {
   "cell_type": "code",
   "execution_count": 22,
   "metadata": {},
   "outputs": [],
   "source": [
    "with open (\"C:\\\\Users\\\\Israa Mohamed\\\\Desktop\\\\New Text Document.txt\",\"a\") as f:\n",
    "    f.write(\"I Love Python\")\n",
    "    "
   ]
  },
  {
   "cell_type": "code",
   "execution_count": null,
   "metadata": {},
   "outputs": [],
   "source": []
  }
 ],
 "metadata": {
  "kernelspec": {
   "display_name": "Python 3",
   "language": "python",
   "name": "python3"
  },
  "language_info": {
   "codemirror_mode": {
    "name": "ipython",
    "version": 3
   },
   "file_extension": ".py",
   "mimetype": "text/x-python",
   "name": "python",
   "nbconvert_exporter": "python",
   "pygments_lexer": "ipython3",
   "version": "3.7.6"
  }
 },
 "nbformat": 4,
 "nbformat_minor": 4
}
