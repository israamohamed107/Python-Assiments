{
 "cells": [
  {
   "cell_type": "code",
   "execution_count": 4,
   "metadata": {},
   "outputs": [],
   "source": [
    "import os , random , string"
   ]
  },
  {
   "cell_type": "code",
   "execution_count": 5,
   "metadata": {},
   "outputs": [
    {
     "data": {
      "text/plain": [
       "['New Text Document - Copy (10).txt',\n",
       " 'New Text Document - Copy (11).txt',\n",
       " 'New Text Document - Copy (12).txt',\n",
       " 'New Text Document - Copy (13).txt',\n",
       " 'New Text Document - Copy (14).txt',\n",
       " 'New Text Document - Copy (15).txt',\n",
       " 'New Text Document - Copy (16).txt',\n",
       " 'New Text Document - Copy (17).txt',\n",
       " 'New Text Document - Copy (18).txt',\n",
       " 'New Text Document - Copy (19).txt',\n",
       " 'New Text Document - Copy (2).txt',\n",
       " 'New Text Document - Copy (20).txt',\n",
       " 'New Text Document - Copy (21).txt',\n",
       " 'New Text Document - Copy (22).txt',\n",
       " 'New Text Document - Copy (23).txt',\n",
       " 'New Text Document - Copy (24).txt',\n",
       " 'New Text Document - Copy (25).txt',\n",
       " 'New Text Document - Copy (26).txt',\n",
       " 'New Text Document - Copy (27).txt',\n",
       " 'New Text Document - Copy (28).txt',\n",
       " 'New Text Document - Copy (29).txt',\n",
       " 'New Text Document - Copy (3).txt',\n",
       " 'New Text Document - Copy (30).txt',\n",
       " 'New Text Document - Copy (31).txt',\n",
       " 'New Text Document - Copy (32).txt',\n",
       " 'New Text Document - Copy (33).txt',\n",
       " 'New Text Document - Copy (34).txt',\n",
       " 'New Text Document - Copy (35).txt',\n",
       " 'New Text Document - Copy (36).txt',\n",
       " 'New Text Document - Copy (37).txt',\n",
       " 'New Text Document - Copy (38).txt',\n",
       " 'New Text Document - Copy (39).txt',\n",
       " 'New Text Document - Copy (4).txt',\n",
       " 'New Text Document - Copy (40).txt',\n",
       " 'New Text Document - Copy (41).txt',\n",
       " 'New Text Document - Copy (42).txt',\n",
       " 'New Text Document - Copy (43).txt',\n",
       " 'New Text Document - Copy (44).txt',\n",
       " 'New Text Document - Copy (45).txt',\n",
       " 'New Text Document - Copy (46).txt',\n",
       " 'New Text Document - Copy (47).txt',\n",
       " 'New Text Document - Copy (48).txt',\n",
       " 'New Text Document - Copy (49).txt',\n",
       " 'New Text Document - Copy (5).txt',\n",
       " 'New Text Document - Copy (50).txt',\n",
       " 'New Text Document - Copy (6).txt',\n",
       " 'New Text Document - Copy (7).txt',\n",
       " 'New Text Document - Copy (8).txt',\n",
       " 'New Text Document - Copy (9).txt',\n",
       " 'New Text Document - Copy.txt',\n",
       " 'New Text Document.txt']"
      ]
     },
     "execution_count": 5,
     "metadata": {},
     "output_type": "execute_result"
    }
   ],
   "source": [
    "lst=os.listdir(\"my_files\")\n",
    "lst"
   ]
  },
  {
   "cell_type": "code",
   "execution_count": 6,
   "metadata": {},
   "outputs": [],
   "source": [
    "letters=string.ascii_lowercase\n",
    "\n",
    "for i in lst:\n",
    "    new_name=''.join(random.choice(letters) for i in range(5))\n",
    "    os.rename(f'./my_files/{i}',f'./my_files/{new_name}')"
   ]
  },
  {
   "cell_type": "code",
   "execution_count": 8,
   "metadata": {},
   "outputs": [
    {
     "data": {
      "text/plain": [
       "['afqzl',\n",
       " 'ahcrd',\n",
       " 'ahook',\n",
       " 'alqgv',\n",
       " 'bpngx',\n",
       " 'dmdjp',\n",
       " 'dstjg',\n",
       " 'dvqju',\n",
       " 'dwruj',\n",
       " 'eaype',\n",
       " 'ganul',\n",
       " 'jbina',\n",
       " 'kypet',\n",
       " 'lbhom',\n",
       " 'mgrxw',\n",
       " 'miomi',\n",
       " 'mncnf',\n",
       " 'nmkpu',\n",
       " 'oajpn',\n",
       " 'onxfc',\n",
       " 'ovcey',\n",
       " 'ppsdw',\n",
       " 'pumig',\n",
       " 'pxahx',\n",
       " 'qbsny',\n",
       " 'qssgw',\n",
       " 'rioar',\n",
       " 'riotp',\n",
       " 'rkieq',\n",
       " 'rqjyj',\n",
       " 'scmoh',\n",
       " 'sekfd',\n",
       " 'smoyt',\n",
       " 'sooaj',\n",
       " 'srelk',\n",
       " 'ssceo',\n",
       " 'tcutj',\n",
       " 'uclub',\n",
       " 'udfyd',\n",
       " 'vmiij',\n",
       " 'vnqxy',\n",
       " 'vvtnh',\n",
       " 'wawdt',\n",
       " 'wudvz',\n",
       " 'xcjzi',\n",
       " 'xgnoj',\n",
       " 'yjhqp',\n",
       " 'yralz',\n",
       " 'ysmhe',\n",
       " 'znijk',\n",
       " 'zokpz']"
      ]
     },
     "execution_count": 8,
     "metadata": {},
     "output_type": "execute_result"
    }
   ],
   "source": [
    "lst2=os.listdir(\"my_files\")\n",
    "lst2"
   ]
  },
  {
   "cell_type": "code",
   "execution_count": null,
   "metadata": {},
   "outputs": [],
   "source": []
  }
 ],
 "metadata": {
  "kernelspec": {
   "display_name": "Python 3",
   "language": "python",
   "name": "python3"
  },
  "language_info": {
   "codemirror_mode": {
    "name": "ipython",
    "version": 3
   },
   "file_extension": ".py",
   "mimetype": "text/x-python",
   "name": "python",
   "nbconvert_exporter": "python",
   "pygments_lexer": "ipython3",
   "version": "3.7.6"
  }
 },
 "nbformat": 4,
 "nbformat_minor": 4
}
